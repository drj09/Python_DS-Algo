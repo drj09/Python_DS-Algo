{
 "cells": [
  {
   "cell_type": "markdown",
   "metadata": {},
   "source": [
    "SORTING ALGORITHMS\n"
   ]
  },
  {
   "cell_type": "code",
   "execution_count": 1,
   "metadata": {},
   "outputs": [
    {
     "name": "stdout",
     "output_type": "stream",
     "text": [
      "[4, 8, 6, 2, 5, 9]\n",
      "[4, 6, 2, 5, 8, 9]\n",
      "[4, 2, 5, 6, 8, 9]\n",
      "[2, 4, 5, 6, 8, 9]\n"
     ]
    }
   ],
   "source": [
    "#bubble sort()\n",
    "def bubble(a):\n",
    "    for i in range(len(a)):\n",
    "        flag=0\n",
    "        for j in range(0,len(a)-i-1):\n",
    "            if a[j]>a[j+1]:\n",
    "                a[j],a[j+1]=a[j+1],a[j]\n",
    "                flag=1\n",
    "        if(flag==0):\n",
    "            break\n",
    "        else:\n",
    "            print(a)\n",
    "\n",
    "bubble([9,4,8,6,2,5])"
   ]
  },
  {
   "cell_type": "code",
   "execution_count": 2,
   "metadata": {},
   "outputs": [
    {
     "name": "stdout",
     "output_type": "stream",
     "text": [
      "[4, 9, 8, 6, 2, 5]\n",
      "[4, 8, 9, 6, 2, 5]\n",
      "[4, 6, 8, 9, 2, 5]\n",
      "[2, 4, 6, 8, 9, 5]\n",
      "[2, 4, 5, 6, 8, 9]\n"
     ]
    }
   ],
   "source": [
    "#insertion sort\n",
    "def insertion(arr):\n",
    "    for i in range(1,len(arr)):\n",
    "        key=arr[i]\n",
    "        j=i-1\n",
    "        while j>=0 and key<arr[j]:\n",
    "            arr[j+1]=arr[j]\n",
    "            j-=1\n",
    "        arr[j+1]=key\n",
    "        print(arr)\n",
    "        \n",
    "insertion([9,4,8,6,2,5])"
   ]
  },
  {
   "cell_type": "code",
   "execution_count": 3,
   "metadata": {},
   "outputs": [
    {
     "name": "stdout",
     "output_type": "stream",
     "text": [
      "[2, 4, 8, 6, 9, 5]\n",
      "[2, 4, 8, 6, 9, 5]\n",
      "[2, 4, 5, 6, 9, 8]\n",
      "[2, 4, 5, 6, 9, 8]\n",
      "[2, 4, 5, 6, 8, 9]\n",
      "[2, 4, 5, 6, 8, 9]\n"
     ]
    }
   ],
   "source": [
    "#selection sort\n",
    "def selection(a):\n",
    "    for i in range(len(a)):\n",
    "        index=i\n",
    "        for j in range(i+1,len(a)):\n",
    "            if a[index]>a[j]:\n",
    "                index=j\n",
    "        a[i],a[index]=a[index],a[i]\n",
    "        print(a)\n",
    "        \n",
    "selection([9,4,8,6,2,5])"
   ]
  },
  {
   "cell_type": "code",
   "execution_count": 29,
   "metadata": {},
   "outputs": [
    {
     "name": "stdout",
     "output_type": "stream",
     "text": [
      "[5, 8, 4, 2, 7, 9, 6, 5, 4]\n",
      "[5, 8, 4, 2]\n",
      "[5, 8]\n",
      "Array after sorting [5, 8]\n",
      "[4, 2]\n",
      "Array after sorting [2, 4]\n",
      "Array after sorting [2, 4, 5, 8]\n",
      "[7, 9, 6, 5, 4]\n",
      "[7, 9]\n",
      "Array after sorting [7, 9]\n",
      "[6, 5, 4]\n",
      "[5, 4]\n",
      "Array after sorting [4, 5]\n",
      "Array after sorting [4, 5, 6]\n",
      "Array after sorting [4, 5, 6, 7, 9]\n",
      "Array after sorting [2, 4, 4, 5, 5, 6, 7, 8, 9]\n",
      "[2, 4, 4, 5, 5, 6, 7, 8, 9]\n"
     ]
    }
   ],
   "source": [
    "#merge sort\n",
    "def merge(a):\n",
    "    if len(a)>1:\n",
    "        mid=len(a)//2\n",
    "        print(a)\n",
    "        l=a[:mid]\n",
    "        r=a[mid:]\n",
    "        merge(l)\n",
    "        merge(r)\n",
    "        i=j=k=0\n",
    "        while i<len(l) and j<len(r):\n",
    "            if l[i]<r[j]:\n",
    "                a[k]=l[i]\n",
    "                i+=1\n",
    "            else:\n",
    "                a[k]=r[j]\n",
    "                j+=1\n",
    "            k+=1\n",
    "        while i<len(l):\n",
    "            a[k]=l[i]\n",
    "            i+=1\n",
    "            k+=1\n",
    "        while j<len(r):\n",
    "            a[k]=r[j]\n",
    "            j+=1\n",
    "            k+=1\n",
    "        print('Array after sorting',a)\n",
    "    \n",
    "        \n",
    "a=[5,8,4,2,7,9,6,5,4]\n",
    "merge(a)\n",
    "print(a)"
   ]
  },
  {
   "cell_type": "code",
   "execution_count": 24,
   "metadata": {},
   "outputs": [
    {
     "name": "stdout",
     "output_type": "stream",
     "text": [
      "[2, 4, 4, 5, 5, 6, 7, 8, 9]\n"
     ]
    }
   ],
   "source": [
    "#quick sort\n",
    "def quicksort(a,l,h):\n",
    "    if l<h:\n",
    "        pi=partition(a,l,h)\n",
    "        quicksort(a,l,pi-1)\n",
    "        quicksort(a,pi+1,h)\n",
    "\n",
    "def partition(a,l,h):\n",
    "    i=l-1\n",
    "    for j in range(l,h):\n",
    "        if a[j]<a[h]:\n",
    "            i+=1\n",
    "            a[i],a[j]=a[j],a[i]\n",
    "    a[i+1],a[h]=a[h],a[i+1]\n",
    "    return i+1\n",
    "\n",
    "a=[5,8,4,2,7,9,6,5,4]\n",
    "quicksort(a,0,len(a)-1)\n",
    "print(a)"
   ]
  },
  {
   "cell_type": "code",
   "execution_count": null,
   "metadata": {},
   "outputs": [],
   "source": []
  }
 ],
 "metadata": {
  "kernelspec": {
   "display_name": "Python 3",
   "language": "python",
   "name": "python3"
  },
  "language_info": {
   "codemirror_mode": {
    "name": "ipython",
    "version": 3
   },
   "file_extension": ".py",
   "mimetype": "text/x-python",
   "name": "python",
   "nbconvert_exporter": "python",
   "pygments_lexer": "ipython3",
   "version": "3.7.6"
  }
 },
 "nbformat": 4,
 "nbformat_minor": 4
}

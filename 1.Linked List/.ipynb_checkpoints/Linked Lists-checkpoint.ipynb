{
 "cells": [
  {
   "cell_type": "markdown",
   "metadata": {},
   "source": [
    "Linked Lists"
   ]
  },
  {
   "cell_type": "code",
   "execution_count": 1,
   "metadata": {},
   "outputs": [],
   "source": [
    "class node:\n",
    "    def __init__(self,n):\n",
    "        self.data=n\n",
    "        self.next=None"
   ]
  },
  {
   "cell_type": "code",
   "execution_count": 35,
   "metadata": {},
   "outputs": [],
   "source": [
    "class linked_list:\n",
    "    def __init__(self):\n",
    "        self.head=None\n",
    "        \n",
    "    #insert element at begining of linked list       \n",
    "    def insert_begin(self,n):\n",
    "        temp=node(n)\n",
    "        if self.head==None:\n",
    "            self.head=temp\n",
    "            return\n",
    "        temp.next=self.head\n",
    "        self.head=temp\n",
    "        \n",
    "    #insert element at middle of linked list    \n",
    "    def insert_middle(self,n,x):\n",
    "        temp=node(n)\n",
    "        if self.head==None:\n",
    "            self.head=temp\n",
    "            return \n",
    "        current=self.head\n",
    "        while current:\n",
    "            if current.data==x:\n",
    "                temp.next=current.next\n",
    "                current.next=temp\n",
    "                return\n",
    "            current=current.next\n",
    "        print('element not found')\n",
    "    \n",
    "    \n",
    "    #insert elment at end of linked list\n",
    "    def insert_end(self,n):\n",
    "        temp=node(n)\n",
    "        if self.head==None:\n",
    "            self.head=temp\n",
    "            return\n",
    "        current=self.head\n",
    "        while(current.next):\n",
    "            current=current.next\n",
    "        current.next=temp\n",
    "        \n",
    "    #traverse through linked list     \n",
    "    def print_list(self):\n",
    "        current=self.head\n",
    "        while(current):\n",
    "            print(current.data,end='-->')\n",
    "            current=current.next\n",
    "          \n",
    "    #delete element from link list any position\n",
    "    def delete_ele(self,x):\n",
    "        if self.head==None:\n",
    "            return -1\n",
    "        current=self.head\n",
    "        if current.data==x:\n",
    "            self.head=current.next\n",
    "            return\n",
    "        while(current):\n",
    "            if current.data==x:\n",
    "                break\n",
    "            prev=current\n",
    "            current=current.next\n",
    "        if current==None:\n",
    "            return \n",
    "        else:\n",
    "            prev.next=current.next\n",
    "    \n",
    "    #get middle element of linked list\n",
    "    def middle_ele(self):\n",
    "        if self.head==None:\n",
    "            return -1\n",
    "        current=self.head\n",
    "        mid=current\n",
    "        while(current!=None and current.next!=None):\n",
    "            current=current.next.next\n",
    "            mid=mid.next\n",
    "        print(mid.data)\n",
    "    \n",
    "    \n",
    "    #pairwise swap in linked list\n",
    "    def pair_swap(self):\n",
    "        current=self.head\n",
    "        while current and current.next:\n",
    "            current.data,current.next.data=current.next.data,current.data\n",
    "            current=current.next.next\n",
    "    \n",
    "    #reverse a linked list\n",
    "    def reverse(self):\n",
    "        prev=None\n",
    "        current=self.head\n",
    "        while(current):\n",
    "            next=current.next\n",
    "            current.next=prev\n",
    "            prev=current\n",
    "            current=next\n",
    "        self.head=prev\n",
    "    \n",
    "    #detcting loop in linked list\n",
    "    def detect_loop(self):\n",
    "        if self.head==None:\n",
    "            return -1\n",
    "        a=set()\n",
    "        current=self.head\n",
    "        while(current):\n",
    "            if current in a:\n",
    "                return True\n",
    "            a.add(current)\n",
    "            current=current.next\n",
    "        return False"
   ]
  },
  {
   "cell_type": "code",
   "execution_count": 36,
   "metadata": {},
   "outputs": [
    {
     "name": "stdout",
     "output_type": "stream",
     "text": [
      "2-->3-->4-->5-->6-->2-->3-->4-->5-->6-->7-->8-->10-->6\n",
      "3-->2-->5-->4-->7-->6-->10-->8-->"
     ]
    }
   ],
   "source": [
    "a=linked_list()\n",
    "\n",
    "for i in range(6,1,-1):\n",
    "    a.insert_begin(i)\n",
    "a.print_list()\n",
    "a.insert_end(10)\n",
    "a.insert_middle(8,6)\n",
    "a.insert_middle(7,6)\n",
    "\n",
    "#a.reverse()\n",
    "\n",
    "a.print_list()\n",
    "\n",
    "#a.delete_ele(5)\n",
    "a.middle_ele()\n",
    "#a.reverse()\n",
    "a.pair_swap()\n",
    "#a.detect_loop()\n",
    "\n",
    "a.print_list()"
   ]
  },
  {
   "cell_type": "code",
   "execution_count": 37,
   "metadata": {},
   "outputs": [
    {
     "ename": "AttributeError",
     "evalue": "'NoneType' object has no attribute 'data'",
     "output_type": "error",
     "traceback": [
      "\u001b[1;31m---------------------------------------------------------------------------\u001b[0m",
      "\u001b[1;31mAttributeError\u001b[0m                            Traceback (most recent call last)",
      "\u001b[1;32m<ipython-input-37-f221d380599b>\u001b[0m in \u001b[0;36m<module>\u001b[1;34m\u001b[0m\n\u001b[1;32m----> 1\u001b[1;33m \u001b[0ma\u001b[0m\u001b[1;33m.\u001b[0m\u001b[0minsert_middle\u001b[0m\u001b[1;33m(\u001b[0m\u001b[1;36m55\u001b[0m\u001b[1;33m,\u001b[0m\u001b[1;36m585\u001b[0m\u001b[1;33m)\u001b[0m\u001b[1;33m\u001b[0m\u001b[1;33m\u001b[0m\u001b[0m\n\u001b[0m",
      "\u001b[1;32m<ipython-input-35-505c96661280>\u001b[0m in \u001b[0;36minsert_middle\u001b[1;34m(self, n, x)\u001b[0m\n\u001b[0;32m     19\u001b[0m             \u001b[1;32mreturn\u001b[0m\u001b[1;33m\u001b[0m\u001b[1;33m\u001b[0m\u001b[0m\n\u001b[0;32m     20\u001b[0m         \u001b[0mcurrent\u001b[0m\u001b[1;33m=\u001b[0m\u001b[0mself\u001b[0m\u001b[1;33m.\u001b[0m\u001b[0mhead\u001b[0m\u001b[1;33m\u001b[0m\u001b[1;33m\u001b[0m\u001b[0m\n\u001b[1;32m---> 21\u001b[1;33m         \u001b[1;32mwhile\u001b[0m\u001b[1;33m(\u001b[0m\u001b[0mcurrent\u001b[0m\u001b[1;33m.\u001b[0m\u001b[0mdata\u001b[0m\u001b[1;33m!=\u001b[0m\u001b[0mx\u001b[0m\u001b[1;33m)\u001b[0m\u001b[1;33m:\u001b[0m\u001b[1;33m\u001b[0m\u001b[1;33m\u001b[0m\u001b[0m\n\u001b[0m\u001b[0;32m     22\u001b[0m             \u001b[0mcurrent\u001b[0m\u001b[1;33m=\u001b[0m\u001b[0mcurrent\u001b[0m\u001b[1;33m.\u001b[0m\u001b[0mnext\u001b[0m\u001b[1;33m\u001b[0m\u001b[1;33m\u001b[0m\u001b[0m\n\u001b[0;32m     23\u001b[0m         \u001b[0mtemp\u001b[0m\u001b[1;33m.\u001b[0m\u001b[0mnext\u001b[0m\u001b[1;33m=\u001b[0m\u001b[0mcurrent\u001b[0m\u001b[1;33m.\u001b[0m\u001b[0mnext\u001b[0m\u001b[1;33m\u001b[0m\u001b[1;33m\u001b[0m\u001b[0m\n",
      "\u001b[1;31mAttributeError\u001b[0m: 'NoneType' object has no attribute 'data'"
     ]
    }
   ],
   "source": [
    "a.insert_middle(55,585)"
   ]
  },
  {
   "cell_type": "code",
   "execution_count": null,
   "metadata": {},
   "outputs": [],
   "source": []
  }
 ],
 "metadata": {
  "kernelspec": {
   "display_name": "Python 3",
   "language": "python",
   "name": "python3"
  },
  "language_info": {
   "codemirror_mode": {
    "name": "ipython",
    "version": 3
   },
   "file_extension": ".py",
   "mimetype": "text/x-python",
   "name": "python",
   "nbconvert_exporter": "python",
   "pygments_lexer": "ipython3",
   "version": "3.7.6"
  }
 },
 "nbformat": 4,
 "nbformat_minor": 4
}

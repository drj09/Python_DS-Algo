{
 "cells": [
  {
   "cell_type": "code",
   "execution_count": 67,
   "metadata": {},
   "outputs": [],
   "source": [
    "class Node():\n",
    "    def __init__(self,data):\n",
    "        self.prev=None\n",
    "        self.data=data\n",
    "        self.next=None\n",
    "\n",
    "        \n",
    "class doubly():\n",
    "    def __init__(self):\n",
    "        self.head=None\n",
    "    \n",
    "    #insert element at start of doubly\n",
    "    def insert_begin(self,data):\n",
    "        temp=Node(data)\n",
    "        if self.head==None:\n",
    "            self.head=temp\n",
    "            return\n",
    "        self.head.prev=temp\n",
    "        temp.next=self.head\n",
    "        self.head=temp\n",
    "    \n",
    "    #insert element at end of doubly\n",
    "    def insert_end(self,data):\n",
    "        temp=Node(data)\n",
    "        if self.head==None:\n",
    "            self.head=temp\n",
    "        current=self.head\n",
    "        while current.next:\n",
    "            current=current.next\n",
    "        current.next=temp\n",
    "        temp.prev=current\n",
    "        \n",
    "    #insert element at middle of doubly after x element\n",
    "    def insert_mid(self,data,x):\n",
    "        temp=Node(data)\n",
    "        current=self.head\n",
    "        if self.head==None:\n",
    "            self.head=temp\n",
    "            return\n",
    "        while current:\n",
    "            if current.data==x:\n",
    "                temp.next=current.next\n",
    "                temp.prev=current\n",
    "                current.next=temp\n",
    "                return\n",
    "            current=current.next\n",
    "        print('element not found')\n",
    "            \n",
    "            \n",
    "        \n",
    "        \n",
    "    \n",
    "    \n",
    "    #print linked list\n",
    "    def print_list(self):\n",
    "        current=self.head\n",
    "        while current:\n",
    "            print(current.data)\n",
    "            current=current.next\n",
    "            \n",
    "        \n",
    "        \n",
    "        \n",
    "        "
   ]
  },
  {
   "cell_type": "code",
   "execution_count": 68,
   "metadata": {},
   "outputs": [],
   "source": [
    "a=doubly()"
   ]
  },
  {
   "cell_type": "code",
   "execution_count": 69,
   "metadata": {},
   "outputs": [],
   "source": [
    "for i in range(6,0,-1):\n",
    "    a.insert_begin(i)"
   ]
  },
  {
   "cell_type": "code",
   "execution_count": 70,
   "metadata": {},
   "outputs": [
    {
     "name": "stdout",
     "output_type": "stream",
     "text": [
      "1\n",
      "2\n",
      "3\n",
      "4\n",
      "5\n",
      "6\n"
     ]
    }
   ],
   "source": [
    "a.print_list()"
   ]
  },
  {
   "cell_type": "code",
   "execution_count": 71,
   "metadata": {},
   "outputs": [],
   "source": [
    "for i in range(7,10):\n",
    "    a.insert_end(i)"
   ]
  },
  {
   "cell_type": "code",
   "execution_count": 72,
   "metadata": {},
   "outputs": [
    {
     "name": "stdout",
     "output_type": "stream",
     "text": [
      "1\n",
      "2\n",
      "3\n",
      "4\n",
      "5\n",
      "6\n",
      "7\n",
      "8\n",
      "9\n"
     ]
    }
   ],
   "source": [
    "a.print_list()"
   ]
  },
  {
   "cell_type": "code",
   "execution_count": 75,
   "metadata": {},
   "outputs": [
    {
     "name": "stdout",
     "output_type": "stream",
     "text": [
      "element not found\n"
     ]
    }
   ],
   "source": [
    "a.insert_mid(10,16)"
   ]
  },
  {
   "cell_type": "code",
   "execution_count": 76,
   "metadata": {},
   "outputs": [
    {
     "name": "stdout",
     "output_type": "stream",
     "text": [
      "1\n",
      "2\n",
      "3\n",
      "4\n",
      "5\n",
      "6\n",
      "10\n",
      "7\n",
      "8\n",
      "9\n"
     ]
    }
   ],
   "source": [
    "a.print_list()"
   ]
  },
  {
   "cell_type": "code",
   "execution_count": null,
   "metadata": {},
   "outputs": [],
   "source": []
  }
 ],
 "metadata": {
  "kernelspec": {
   "display_name": "Python 3",
   "language": "python",
   "name": "python3"
  },
  "language_info": {
   "codemirror_mode": {
    "name": "ipython",
    "version": 3
   },
   "file_extension": ".py",
   "mimetype": "text/x-python",
   "name": "python",
   "nbconvert_exporter": "python",
   "pygments_lexer": "ipython3",
   "version": "3.7.6"
  }
 },
 "nbformat": 4,
 "nbformat_minor": 4
}

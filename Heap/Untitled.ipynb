{
 "cells": [
  {
   "cell_type": "code",
   "execution_count": 94,
   "metadata": {},
   "outputs": [],
   "source": [
    "#max heap \n",
    "heap=[0]"
   ]
  },
  {
   "cell_type": "code",
   "execution_count": 95,
   "metadata": {},
   "outputs": [],
   "source": [
    "#using leaf nodes to go up till it is preferable over its parent\n",
    "def percolateUp(i):\n",
    "    while i//2>0:\n",
    "        if heap[i]>heap[i//2]:\n",
    "            heap[i],heap[i//2]=heap[i//2],heap[i]\n",
    "        i=i//2"
   ]
  },
  {
   "cell_type": "code",
   "execution_count": 96,
   "metadata": {},
   "outputs": [],
   "source": [
    "#using leaf nodes to go down till it is preferable over its child\n",
    "def maxChild(i):\n",
    "    if 2*i+1>len(heap)-1:\n",
    "        return 2*i\n",
    "    elif 2*i>2*i+1:\n",
    "        return 2*i\n",
    "    else:\n",
    "        return 2*i+1\n",
    "\n",
    "def percolateDown(i):\n",
    "    while i*2<=len(heap)-1:\n",
    "        maxC=maxChild(i)\n",
    "        heap[i],heap[maxC]=heap[maxC],heap[i]\n",
    "        i=maxC"
   ]
  },
  {
   "cell_type": "code",
   "execution_count": 97,
   "metadata": {},
   "outputs": [],
   "source": [
    "#insert new element at last position and then percolateUp to its position\n",
    "def insert(x):\n",
    "    heap.append(x)\n",
    "    percolateUp(len(heap)-1)\n",
    "    print(heap)"
   ]
  },
  {
   "cell_type": "code",
   "execution_count": 98,
   "metadata": {},
   "outputs": [],
   "source": [
    "#delete replace first element with last element and then percolate down it to its position\n",
    "def delete():\n",
    "    a=heap[1]\n",
    "    heap[1]=heap[-1]\n",
    "    heap.pop()\n",
    "    percolateDown(1)\n",
    "    print(a,heap)\n",
    "    \n",
    "    "
   ]
  },
  {
   "cell_type": "code",
   "execution_count": null,
   "metadata": {},
   "outputs": [],
   "source": []
  },
  {
   "cell_type": "code",
   "execution_count": 99,
   "metadata": {},
   "outputs": [
    {
     "name": "stdout",
     "output_type": "stream",
     "text": [
      "[0, 85]\n",
      "[0, 85, 25]\n",
      "[0, 125, 25, 85]\n",
      "[0, 180, 125, 85, 25]\n",
      "[0, 180, 125, 85, 25, 22]\n",
      "[0, 180, 125, 85, 25, 22, 25]\n"
     ]
    }
   ],
   "source": [
    "insert(85)\n",
    "insert(25)\n",
    "insert(125)\n",
    "insert(180)\n",
    "insert(22)\n",
    "insert(25)"
   ]
  },
  {
   "cell_type": "code",
   "execution_count": 64,
   "metadata": {},
   "outputs": [
    {
     "name": "stdout",
     "output_type": "stream",
     "text": [
      "125 [0, 22, 25, 25]\n"
     ]
    }
   ],
   "source": [
    "delete()"
   ]
  },
  {
   "cell_type": "code",
   "execution_count": 105,
   "metadata": {},
   "outputs": [
    {
     "name": "stdout",
     "output_type": "stream",
     "text": [
      "[0, 50, 125, 5, 21, 45, 85, 88, 69, 85]\n",
      "[0, 50, 125, 5, 21, 45, 85, 88, 69, 85]\n"
     ]
    }
   ],
   "source": [
    "#heapify an array\n",
    "def heapify(arr,heap):\n",
    "    i=len(arr)//2\n",
    "    \n",
    "    heap=[0]+arr\n",
    "    while i>0:\n",
    "        percolateDown(i)\n",
    "        i=i-1\n",
    "    print(heap)\n",
    "\n",
    "\n",
    "\n",
    "heapify([50,125,5,21,45,85,88,69,85],heap)"
   ]
  },
  {
   "cell_type": "code",
   "execution_count": 106,
   "metadata": {},
   "outputs": [
    {
     "data": {
      "text/plain": [
       "[0, 180, 125, 85, 25, 22, 25]"
      ]
     },
     "execution_count": 106,
     "metadata": {},
     "output_type": "execute_result"
    }
   ],
   "source": []
  },
  {
   "cell_type": "code",
   "execution_count": null,
   "metadata": {},
   "outputs": [],
   "source": [
    "#heap sort\n",
    "def heapsort():\n",
    "    "
   ]
  }
 ],
 "metadata": {
  "kernelspec": {
   "display_name": "Python 3",
   "language": "python",
   "name": "python3"
  },
  "language_info": {
   "codemirror_mode": {
    "name": "ipython",
    "version": 3
   },
   "file_extension": ".py",
   "mimetype": "text/x-python",
   "name": "python",
   "nbconvert_exporter": "python",
   "pygments_lexer": "ipython3",
   "version": "3.7.6"
  }
 },
 "nbformat": 4,
 "nbformat_minor": 4
}

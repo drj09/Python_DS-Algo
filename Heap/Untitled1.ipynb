{
 "cells": [
  {
   "cell_type": "code",
   "execution_count": 81,
   "metadata": {},
   "outputs": [],
   "source": [
    "def heapify(arr,n,i):\n",
    "    largest=i\n",
    "    l=2*i+1\n",
    "    r=2*i+2\n",
    "    if l<n and arr[i]<arr[l]:\n",
    "        largest=l\n",
    "    if r<n and arr[largest]<arr[r]:\n",
    "        largest=r\n",
    "    if largest!=i:\n",
    "        arr[i],arr[largest]=arr[largest],arr[i]\n",
    "        heapify(arr,n,largest)"
   ]
  },
  {
   "cell_type": "code",
   "execution_count": 82,
   "metadata": {},
   "outputs": [],
   "source": [
    "def heapsort(arr):\n",
    "    n=len(arr)\n",
    "    for i in range(n//2,-1,-1):\n",
    "        heapify(arr,n,i)\n",
    "    print(arr)\n",
    "    for i in range(n-1,0,-1):\n",
    "        arr[0],arr[i]=arr[i],arr[0]\n",
    "        heapify(arr,i,0)\n",
    "    print(arr)"
   ]
  },
  {
   "cell_type": "code",
   "execution_count": 83,
   "metadata": {},
   "outputs": [
    {
     "name": "stdout",
     "output_type": "stream",
     "text": [
      "[856, 95, 74, 5, 85, 54, 1, 4, 2, 58]\n",
      "[1, 2, 4, 5, 54, 58, 74, 85, 95, 856]\n"
     ]
    }
   ],
   "source": [
    "heapsort([5,2,1,4,58,54,74,856,95,85])"
   ]
  },
  {
   "cell_type": "code",
   "execution_count": null,
   "metadata": {},
   "outputs": [],
   "source": []
  }
 ],
 "metadata": {
  "kernelspec": {
   "display_name": "Python 3",
   "language": "python",
   "name": "python3"
  },
  "language_info": {
   "codemirror_mode": {
    "name": "ipython",
    "version": 3
   },
   "file_extension": ".py",
   "mimetype": "text/x-python",
   "name": "python",
   "nbconvert_exporter": "python",
   "pygments_lexer": "ipython3",
   "version": "3.7.6"
  }
 },
 "nbformat": 4,
 "nbformat_minor": 4
}

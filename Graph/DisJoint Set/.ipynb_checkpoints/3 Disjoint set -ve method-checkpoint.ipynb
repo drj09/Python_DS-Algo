{
 "cells": [
  {
   "cell_type": "code",
   "execution_count": 1,
   "metadata": {},
   "outputs": [],
   "source": [
    "#Disjoint Set -ve value method"
   ]
  },
  {
   "cell_type": "code",
   "execution_count": 28,
   "metadata": {},
   "outputs": [],
   "source": [
    "parent=[-1]*8"
   ]
  },
  {
   "cell_type": "code",
   "execution_count": 29,
   "metadata": {},
   "outputs": [],
   "source": [
    "def find(i,parent):\n",
    "    if parent[i]<0:\n",
    "        return i\n",
    "    return find(parent[i],parent)"
   ]
  },
  {
   "cell_type": "code",
   "execution_count": 30,
   "metadata": {},
   "outputs": [],
   "source": [
    "def union(i,j,parent):\n",
    "    pi=find(i,parent)\n",
    "    pj=find(j,parent)\n",
    "    print(pi,pj)\n",
    "    if parent[pi]==parent[pj]==-1:\n",
    "        parent[pi]+=parent[pj]\n",
    "        parent[pj]=pi\n",
    "    elif pi!=pj:\n",
    "        if parent[pi]>parent[pj]:\n",
    "            pi,pj=pj,pi\n",
    "        parent[pi]+=parent[pj]\n",
    "        parent[pj]=pi\n",
    "    print(parent)"
   ]
  },
  {
   "cell_type": "code",
   "execution_count": 31,
   "metadata": {},
   "outputs": [
    {
     "name": "stdout",
     "output_type": "stream",
     "text": [
      "0 1\n",
      "[-2, 0, -1, -1, -1, -1, -1, -1]\n",
      "2 3\n",
      "[-2, 0, -2, 2, -1, -1, -1, -1]\n",
      "4 5\n",
      "[-2, 0, -2, 2, -2, 4, -1, -1]\n",
      "6 7\n",
      "[-2, 0, -2, 2, -2, 4, -2, 6]\n"
     ]
    }
   ],
   "source": [
    "union(0,1,parent)\n",
    "\n",
    "union(2,3,parent)\n",
    "\n",
    "union(4,5,parent)\n",
    "\n",
    "union(6,7,parent)"
   ]
  },
  {
   "cell_type": "code",
   "execution_count": 32,
   "metadata": {},
   "outputs": [
    {
     "name": "stdout",
     "output_type": "stream",
     "text": [
      "0 2\n",
      "[-4, 0, 0, 2, -2, 4, -2, 6]\n"
     ]
    }
   ],
   "source": [
    "union(1,3,parent)"
   ]
  },
  {
   "cell_type": "code",
   "execution_count": 33,
   "metadata": {},
   "outputs": [
    {
     "name": "stdout",
     "output_type": "stream",
     "text": [
      "0 4\n",
      "[-6, 0, 0, 2, 0, 4, -2, 6]\n"
     ]
    }
   ],
   "source": [
    "union(1,4,parent)"
   ]
  },
  {
   "cell_type": "code",
   "execution_count": 34,
   "metadata": {},
   "outputs": [
    {
     "name": "stdout",
     "output_type": "stream",
     "text": [
      "0 0\n",
      "[-6, 0, 0, 2, 0, 4, -2, 6]\n"
     ]
    }
   ],
   "source": [
    "union(0,2,parent)"
   ]
  },
  {
   "cell_type": "code",
   "execution_count": 36,
   "metadata": {},
   "outputs": [
    {
     "name": "stdout",
     "output_type": "stream",
     "text": [
      "0 6\n",
      "[-8, 0, 0, 2, 0, 4, 0, 6]\n"
     ]
    }
   ],
   "source": [
    "union(5,7,parent)"
   ]
  },
  {
   "cell_type": "code",
   "execution_count": null,
   "metadata": {},
   "outputs": [],
   "source": []
  }
 ],
 "metadata": {
  "kernelspec": {
   "display_name": "Python 3",
   "language": "python",
   "name": "python3"
  },
  "language_info": {
   "codemirror_mode": {
    "name": "ipython",
    "version": 3
   },
   "file_extension": ".py",
   "mimetype": "text/x-python",
   "name": "python",
   "nbconvert_exporter": "python",
   "pygments_lexer": "ipython3",
   "version": "3.7.6"
  }
 },
 "nbformat": 4,
 "nbformat_minor": 4
}

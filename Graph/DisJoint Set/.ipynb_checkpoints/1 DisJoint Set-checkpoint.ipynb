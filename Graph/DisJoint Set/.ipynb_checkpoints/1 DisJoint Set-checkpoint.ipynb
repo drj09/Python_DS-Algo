{
 "cells": [
  {
   "cell_type": "code",
   "execution_count": 58,
   "metadata": {},
   "outputs": [],
   "source": [
    "parent=[0,1,2,3,4,5,6,7]\n",
    "def find(i,parent):\n",
    "    if parent[i]==i:\n",
    "        return i\n",
    "    else:\n",
    "        return find(parent[i],parent)"
   ]
  },
  {
   "cell_type": "code",
   "execution_count": 59,
   "metadata": {},
   "outputs": [],
   "source": [
    "def union(i,j,parent):\n",
    "    pi=find(i,parent)\n",
    "    pj=find(j,parent)\n",
    "    print(pi,pj)\n",
    "    if pi!=pj:\n",
    "        parent[pj]=pi\n",
    "    print(parent)"
   ]
  },
  {
   "cell_type": "code",
   "execution_count": 60,
   "metadata": {},
   "outputs": [
    {
     "name": "stdout",
     "output_type": "stream",
     "text": [
      "0 1\n",
      "[0, 0, 2, 3, 4, 5, 6, 7]\n"
     ]
    }
   ],
   "source": [
    "union(0,1,parent)"
   ]
  },
  {
   "cell_type": "code",
   "execution_count": 61,
   "metadata": {},
   "outputs": [
    {
     "name": "stdout",
     "output_type": "stream",
     "text": [
      "2 3\n",
      "[0, 0, 2, 2, 4, 5, 6, 7]\n"
     ]
    }
   ],
   "source": [
    "union(2,3,parent)"
   ]
  },
  {
   "cell_type": "code",
   "execution_count": 62,
   "metadata": {},
   "outputs": [
    {
     "name": "stdout",
     "output_type": "stream",
     "text": [
      "4 5\n",
      "[0, 0, 2, 2, 4, 4, 6, 7]\n"
     ]
    }
   ],
   "source": [
    "union(4,5,parent)"
   ]
  },
  {
   "cell_type": "code",
   "execution_count": 63,
   "metadata": {},
   "outputs": [
    {
     "name": "stdout",
     "output_type": "stream",
     "text": [
      "6 7\n",
      "[0, 0, 2, 2, 4, 4, 6, 6]\n"
     ]
    }
   ],
   "source": [
    "union(6,7,parent)"
   ]
  },
  {
   "cell_type": "code",
   "execution_count": 64,
   "metadata": {},
   "outputs": [
    {
     "name": "stdout",
     "output_type": "stream",
     "text": [
      "0 2\n",
      "[0, 0, 0, 2, 4, 4, 6, 6]\n"
     ]
    }
   ],
   "source": [
    "union(1,3,parent)"
   ]
  },
  {
   "cell_type": "code",
   "execution_count": 65,
   "metadata": {},
   "outputs": [
    {
     "name": "stdout",
     "output_type": "stream",
     "text": [
      "0 4\n",
      "[0, 0, 0, 2, 0, 4, 6, 6]\n"
     ]
    }
   ],
   "source": [
    "union(1,4,parent)"
   ]
  },
  {
   "cell_type": "code",
   "execution_count": 66,
   "metadata": {},
   "outputs": [
    {
     "name": "stdout",
     "output_type": "stream",
     "text": [
      "0 0\n",
      "[0, 0, 0, 2, 0, 4, 6, 6]\n"
     ]
    }
   ],
   "source": [
    "union(0,2,parent)"
   ]
  },
  {
   "cell_type": "code",
   "execution_count": 67,
   "metadata": {},
   "outputs": [
    {
     "name": "stdout",
     "output_type": "stream",
     "text": [
      "0 6\n",
      "[0, 0, 0, 2, 0, 4, 0, 6]\n"
     ]
    }
   ],
   "source": [
    "union(5,7,parent)"
   ]
  },
  {
   "cell_type": "code",
   "execution_count": 68,
   "metadata": {},
   "outputs": [
    {
     "name": "stdout",
     "output_type": "stream",
     "text": [
      "0 0\n",
      "[0, 0, 0, 2, 0, 4, 0, 6]\n"
     ]
    }
   ],
   "source": [
    "union(4,6,parent)"
   ]
  },
  {
   "cell_type": "code",
   "execution_count": null,
   "metadata": {},
   "outputs": [],
   "source": []
  }
 ],
 "metadata": {
  "kernelspec": {
   "display_name": "Python 3",
   "language": "python",
   "name": "python3"
  },
  "language_info": {
   "codemirror_mode": {
    "name": "ipython",
    "version": 3
   },
   "file_extension": ".py",
   "mimetype": "text/x-python",
   "name": "python",
   "nbconvert_exporter": "python",
   "pygments_lexer": "ipython3",
   "version": "3.7.6"
  }
 },
 "nbformat": 4,
 "nbformat_minor": 4
}

{
 "cells": [
  {
   "cell_type": "code",
   "execution_count": 1,
   "metadata": {},
   "outputs": [],
   "source": [
    "#disjoint set union by size/rank"
   ]
  },
  {
   "cell_type": "code",
   "execution_count": 21,
   "metadata": {},
   "outputs": [],
   "source": [
    "parent=[0,1,2,3,4,5,6,7]\n",
    "size=[1,1,1,1,1,1,1,1]\n",
    "def find(i,parent):\n",
    "    if parent[i]==i:\n",
    "        return i\n",
    "    else:\n",
    "        return find(parent[i],parent)"
   ]
  },
  {
   "cell_type": "code",
   "execution_count": 22,
   "metadata": {},
   "outputs": [],
   "source": [
    "def union(i,j,parent):\n",
    "    pi=find(i,parent)\n",
    "    pj=find(j,parent)\n",
    "    if pi!=pj:\n",
    "        if size[pi]<size[pj]:\n",
    "            pi,pj=pj,pi\n",
    "        parent[pj]=pi\n",
    "        size[pi]+=size[pj]\n",
    "    print(\"Parent\",parent)\n",
    "    print(\"Size\",size)"
   ]
  },
  {
   "cell_type": "code",
   "execution_count": 23,
   "metadata": {},
   "outputs": [
    {
     "name": "stdout",
     "output_type": "stream",
     "text": [
      "Parent [0, 0, 2, 3, 4, 5, 6, 7]\n",
      "Size [2, 1, 1, 1, 1, 1, 1, 1]\n",
      "Parent [0, 0, 2, 2, 4, 5, 6, 7]\n",
      "Size [2, 1, 2, 1, 1, 1, 1, 1]\n",
      "Parent [0, 0, 2, 2, 4, 4, 6, 7]\n",
      "Size [2, 1, 2, 1, 2, 1, 1, 1]\n",
      "Parent [0, 0, 2, 2, 4, 4, 6, 6]\n",
      "Size [2, 1, 2, 1, 2, 1, 2, 1]\n"
     ]
    }
   ],
   "source": [
    "union(0,1,parent)\n",
    "\n",
    "union(2,3,parent)\n",
    "\n",
    "union(4,5,parent)\n",
    "\n",
    "union(6,7,parent)"
   ]
  },
  {
   "cell_type": "code",
   "execution_count": 24,
   "metadata": {},
   "outputs": [
    {
     "name": "stdout",
     "output_type": "stream",
     "text": [
      "Parent [0, 0, 0, 2, 4, 4, 6, 6]\n",
      "Size [4, 1, 2, 1, 2, 1, 2, 1]\n",
      "Parent [0, 0, 0, 2, 0, 4, 6, 6]\n",
      "Size [6, 1, 2, 1, 2, 1, 2, 1]\n"
     ]
    }
   ],
   "source": [
    "union(1,3,parent)\n",
    "\n",
    "union(1,4,parent)"
   ]
  },
  {
   "cell_type": "code",
   "execution_count": 25,
   "metadata": {},
   "outputs": [
    {
     "name": "stdout",
     "output_type": "stream",
     "text": [
      "Parent [0, 0, 0, 2, 0, 4, 6, 6]\n",
      "Size [6, 1, 2, 1, 2, 1, 2, 1]\n",
      "Parent [0, 0, 0, 2, 0, 4, 0, 6]\n",
      "Size [8, 1, 2, 1, 2, 1, 2, 1]\n",
      "Parent [0, 0, 0, 2, 0, 4, 0, 6]\n",
      "Size [8, 1, 2, 1, 2, 1, 2, 1]\n"
     ]
    }
   ],
   "source": [
    "union(0,2,parent)\n",
    "\n",
    "union(5,7,parent)\n",
    "\n",
    "union(4,6,parent)\n"
   ]
  },
  {
   "cell_type": "code",
   "execution_count": null,
   "metadata": {},
   "outputs": [],
   "source": []
  }
 ],
 "metadata": {
  "kernelspec": {
   "display_name": "Python 3",
   "language": "python",
   "name": "python3"
  },
  "language_info": {
   "codemirror_mode": {
    "name": "ipython",
    "version": 3
   },
   "file_extension": ".py",
   "mimetype": "text/x-python",
   "name": "python",
   "nbconvert_exporter": "python",
   "pygments_lexer": "ipython3",
   "version": "3.7.6"
  }
 },
 "nbformat": 4,
 "nbformat_minor": 4
}

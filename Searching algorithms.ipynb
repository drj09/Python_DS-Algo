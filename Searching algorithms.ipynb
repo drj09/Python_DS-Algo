{
 "cells": [
  {
   "cell_type": "markdown",
   "metadata": {},
   "source": [
    "Searching Algorithms"
   ]
  },
  {
   "cell_type": "code",
   "execution_count": 1,
   "metadata": {},
   "outputs": [
    {
     "name": "stdout",
     "output_type": "stream",
     "text": [
      "3\n"
     ]
    }
   ],
   "source": [
    "#linear searching\n",
    "def linear_search(a,n):\n",
    "    for i in range(len(a)):\n",
    "        if a[i]==n:\n",
    "            print(i+1)\n",
    "            break\n",
    "\n",
    "            \n",
    "a=[10,5,1,2,44,2,3]\n",
    "n=1\n",
    "linear_search(a,n)"
   ]
  },
  {
   "cell_type": "code",
   "execution_count": 1,
   "metadata": {},
   "outputs": [
    {
     "data": {
      "text/plain": [
       "4"
      ]
     },
     "execution_count": 1,
     "metadata": {},
     "output_type": "execute_result"
    }
   ],
   "source": [
    "#binary search iterative method\n",
    "def binary_search_iterative(a,n):\n",
    "    l=0\n",
    "    r=len(a)-1\n",
    "    while l<=r:\n",
    "        mid=l+((r-l)//2)\n",
    "        if a[mid]==n:\n",
    "            return mid\n",
    "        elif a[mid]>n:\n",
    "            r=mid-1\n",
    "        else:\n",
    "            l=mid+1\n",
    "    return -1\n",
    "\n",
    "c=[2,3,5,10,40]\n",
    "binary_search_iterative(c,40)"
   ]
  },
  {
   "cell_type": "code",
   "execution_count": 18,
   "metadata": {},
   "outputs": [],
   "source": [
    "#Bianry search recursive method\n",
    "def binary_ss(arr,l,r,key):\n",
    "    if l>r:\n",
    "        return -1\n",
    "    mid=(r+l)//2\n",
    "    print('Mid',l,mid,r)\n",
    "    if arr[mid]==key:\n",
    "        return mid\n",
    "    elif arr[mid]>key:\n",
    "        return binary_ss(arr,l,mid-1,key)\n",
    "    else:\n",
    "        return binary_ss(arr,mid+1,r,key)"
   ]
  },
  {
   "cell_type": "code",
   "execution_count": 28,
   "metadata": {},
   "outputs": [
    {
     "name": "stdout",
     "output_type": "stream",
     "text": [
      "Mid 0 4 9\n",
      "Mid 5 7 9\n",
      "Mid 8 8 9\n"
     ]
    },
    {
     "data": {
      "text/plain": [
       "8"
      ]
     },
     "execution_count": 28,
     "metadata": {},
     "output_type": "execute_result"
    }
   ],
   "source": [
    "a=[10,20,30,40,50,60,70,80,90,100]\n",
    "binary_ss(a,0,9,90)"
   ]
  },
  {
   "cell_type": "code",
   "execution_count": null,
   "metadata": {},
   "outputs": [],
   "source": []
  }
 ],
 "metadata": {
  "kernelspec": {
   "display_name": "Python 3",
   "language": "python",
   "name": "python3"
  },
  "language_info": {
   "codemirror_mode": {
    "name": "ipython",
    "version": 3
   },
   "file_extension": ".py",
   "mimetype": "text/x-python",
   "name": "python",
   "nbconvert_exporter": "python",
   "pygments_lexer": "ipython3",
   "version": "3.7.6"
  }
 },
 "nbformat": 4,
 "nbformat_minor": 4
}

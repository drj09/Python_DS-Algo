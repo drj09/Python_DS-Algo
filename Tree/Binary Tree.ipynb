{
 "cells": [
  {
   "cell_type": "markdown",
   "metadata": {},
   "source": [
    "Binary Tree\n"
   ]
  },
  {
   "cell_type": "code",
   "execution_count": 2,
   "metadata": {},
   "outputs": [],
   "source": [
    "class Node:\n",
    "    def __init__(self,data):\n",
    "        self.data=data\n",
    "        self.left=None\n",
    "        self.right=None\n",
    "\n",
    "#BFS or level order travelsal\n",
    "def level_order(root):\n",
    "    if root==None:\n",
    "        return -1\n",
    "    a=[]\n",
    "    a.append(root)\n",
    "    while a:\n",
    "        current=a.pop(0)\n",
    "        print(current.data,end=' ')\n",
    "        if current.left!=None:\n",
    "            a.append(current.left)\n",
    "        if current.right!=None:\n",
    "            a.append(current.right)\n",
    "\n",
    "#DFS (pre-order) traversal\n",
    "def pre_order(root):\n",
    "    if root==None:\n",
    "        return\n",
    "    print(root.data)\n",
    "    pre_order(root.left)\n",
    "    pre_order(root.right)\n",
    "\n",
    "def pre_order_iterative(root):\n",
    "    if root==None:\n",
    "        return\n",
    "    stack=list()\n",
    "    stack.append(root)\n",
    "    while(stack):\n",
    "        current=stack.pop()\n",
    "        print(current.data)\n",
    "        if current.right: stack.append(current.right)\n",
    "        if current.left: stack.append(current.left)\n",
    "        \n",
    "#DFS (in-order) traversal\n",
    "def in_order(root):\n",
    "    if root==None:\n",
    "        return\n",
    "    in_order(root.left)\n",
    "    print(root.data)\n",
    "    in_order(root.right)\n",
    "\n",
    "\n",
    "\n",
    "#DFS (post-order) traversal\n",
    "def post_order(root):\n",
    "    if root==None:\n",
    "        return\n",
    "    post_order(root.left)\n",
    "    post_order(root.right)\n",
    "    print(root.data)"
   ]
  },
  {
   "cell_type": "code",
   "execution_count": 3,
   "metadata": {},
   "outputs": [],
   "source": [
    "#insert element in binary tree\n",
    "'''Travesing level order got \n",
    "   last node and insert element there\n",
    "'''\n",
    "def insert(root,data):\n",
    "    if root==None:\n",
    "        root=node(data)\n",
    "        return\n",
    "    queue=list()\n",
    "    queue.append(root)\n",
    "    while queue:\n",
    "        temp=queue.pop(0)\n",
    "        if temp.left==None:\n",
    "            temp.left=Node(data)\n",
    "        else:\n",
    "            queue.append(temp.left)\n",
    "        if temp.right==None:\n",
    "            temp.right=Node(data)\n",
    "        else:\n",
    "            queue.append(temp.right)\n",
    "        \n",
    "#delete a node in Binary tree\n",
    "'''Do level order traversal\n",
    "   Replace last node with key(node to be deleted)\n",
    "   Delete last node\n",
    "'''\n",
    "def delete(root, key):\n",
    "    #checking for root to be none\n",
    "    if root==None:\n",
    "        return None\n",
    "    #if root is only element or not \n",
    "    if root.left==None and root.right==None:\n",
    "        #if root is key to delete\n",
    "        if root.data==key:\n",
    "            root=None\n",
    "        else : return None\n",
    "    \n",
    "    queue=[]\n",
    "    queue.append(root)\n",
    "    \n",
    "    delta=False   #storing element if found\n",
    "    prev=0        #storing parent of leaf node\n",
    "    child=0       #last node is left child or right child \n",
    "    \n",
    "    #doing a level order teaversal\n",
    "    while queue:\n",
    "        temp=queue.pop(0)\n",
    "        \n",
    "        if temp.data==key:\n",
    "            #element found then storing\n",
    "            delta=temp\n",
    "        if temp.left!=None:\n",
    "            #storing current node to \n",
    "            prev=temp\n",
    "            #left node it is\n",
    "            child='L'\n",
    "            queue.append(temp.left)\n",
    "        if temp.right!=None:\n",
    "            #storing current node to \n",
    "            prev=temp\n",
    "            #right node it is\n",
    "            child='R'\n",
    "            queue.append(temp.right)\n",
    "    if delta:\n",
    "        if child=='L':\n",
    "            #if last node is left of parent \n",
    "            delta.data=prev.left.data\n",
    "            prev.left=None\n",
    "        else:\n",
    "            #if last node is right of parent\n",
    "            delta.data=prev.right.data\n",
    "            prev.right=None"
   ]
  },
  {
   "cell_type": "code",
   "execution_count": 43,
   "metadata": {},
   "outputs": [],
   "source": [
    "#Lca of binary tree\n",
    "def lca(root, n1, n2):\n",
    "    if root==None:\n",
    "        return None\n",
    "    if root.data==n1 or root.data==n2:\n",
    "        return root\n",
    "    left=lca(root.left,n1,n2)\n",
    "    right=lca(root.right,n1,n2)\n",
    "    if left!=None and right!=None:\n",
    "        return root\n",
    "    if left!=None:\n",
    "        return left\n",
    "    if right!=None:\n",
    "        return right\n"
   ]
  },
  {
   "cell_type": "code",
   "execution_count": 44,
   "metadata": {},
   "outputs": [],
   "source": [
    "root=Node(1)"
   ]
  },
  {
   "cell_type": "code",
   "execution_count": 45,
   "metadata": {},
   "outputs": [],
   "source": [
    "root.left=Node(2)\n",
    "root.right=Node(3)\n",
    "root.left.left=Node(4)\n",
    "root.left.right=Node(5)\n",
    "root.right.left=Node(6)\n",
    "root.right.right=Node(7)\n"
   ]
  },
  {
   "cell_type": "code",
   "execution_count": 46,
   "metadata": {},
   "outputs": [
    {
     "name": "stdout",
     "output_type": "stream",
     "text": [
      "1 2 3 4 5 6 7 "
     ]
    }
   ],
   "source": [
    "level_order(root)"
   ]
  },
  {
   "cell_type": "code",
   "execution_count": 47,
   "metadata": {},
   "outputs": [
    {
     "name": "stdout",
     "output_type": "stream",
     "text": [
      "1\n",
      "2\n",
      "4\n",
      "5\n",
      "3\n",
      "6\n",
      "7\n"
     ]
    }
   ],
   "source": [
    "pre_order(root)"
   ]
  },
  {
   "cell_type": "code",
   "execution_count": 48,
   "metadata": {},
   "outputs": [
    {
     "name": "stdout",
     "output_type": "stream",
     "text": [
      "1\n",
      "2\n",
      "4\n",
      "5\n",
      "3\n",
      "6\n",
      "7\n"
     ]
    }
   ],
   "source": [
    "pre_order_iterative(root)"
   ]
  },
  {
   "cell_type": "code",
   "execution_count": 49,
   "metadata": {},
   "outputs": [
    {
     "name": "stdout",
     "output_type": "stream",
     "text": [
      "4\n",
      "2\n",
      "5\n",
      "1\n",
      "6\n",
      "3\n",
      "7\n"
     ]
    }
   ],
   "source": [
    "in_order(root)"
   ]
  },
  {
   "cell_type": "code",
   "execution_count": 50,
   "metadata": {},
   "outputs": [
    {
     "name": "stdout",
     "output_type": "stream",
     "text": [
      "1 2 3 4 5 6 7 "
     ]
    }
   ],
   "source": [
    "level_order(root)"
   ]
  },
  {
   "cell_type": "code",
   "execution_count": 59,
   "metadata": {},
   "outputs": [],
   "source": [
    "def reverse_level_order(root):\n",
    "    if root==None:\n",
    "        return 0\n",
    "    queue=list()\n",
    "    stack=list()\n",
    "    queue.append(root)\n",
    "    while queue:\n",
    "        current=queue.pop(0)\n",
    "        if current.right!=None:\n",
    "            queue.append(current.right)\n",
    "        if current.left!=None:\n",
    "            queue.append(current.left)\n",
    "        \n",
    "        stack.append(current.data)\n",
    "    for i in range(len(stack)):\n",
    "        print(stack.pop(),end=' ')"
   ]
  },
  {
   "cell_type": "code",
   "execution_count": 61,
   "metadata": {},
   "outputs": [
    {
     "name": "stdout",
     "output_type": "stream",
     "text": [
      "4 5 6 7 2 3 1 "
     ]
    }
   ],
   "source": [
    "reverse_level_order(root)"
   ]
  },
  {
   "cell_type": "code",
   "execution_count": 63,
   "metadata": {},
   "outputs": [],
   "source": [
    "#itereative identical 2 trees\n",
    "def isIdentical(root1, root2):\n",
    "    #checking if both root are None\n",
    "    if root1==None and root2==None:\n",
    "        return True\n",
    "    #if any root is none then not identical\n",
    "    if root1==None or root2==None:\n",
    "        return False\n",
    "    \n",
    "    #using inorder traversal of 2 tree\n",
    "    queue1,queue2=list(),list()\n",
    "    queue1.append(root1)\n",
    "    queue2.append(root2)\n",
    "    \n",
    "    while queue1 and queue2:\n",
    "        current1=queue1.pop(0)\n",
    "        current2=queue2.pop(0)\n",
    "        \n",
    "        #data doesn't match return false\n",
    "        if current1.data!=current2.data:\n",
    "            return False\n",
    "        \n",
    "        #both node should have left subtree or not \n",
    "        #if only one is having left subtree return false\n",
    "        if current1.left and current2.left:\n",
    "            queue1.append(current1.left)\n",
    "            queue2.append(current2.left)\n",
    "        elif current1.left or current2.left:\n",
    "            return False\n",
    "        \n",
    "        #both node should have left subtree or not \n",
    "        #if only one is having left subtree return false\n",
    "        if current1.right and current2.right:\n",
    "            queue1.append(current1.right)\n",
    "            queue2.append(current2.right)\n",
    "        elif current1.right or current2.right:\n",
    "            return False\n",
    "    return True\n",
    "\n",
    "#recursive\n",
    "def isIdentical(root1, root2):\n",
    "    #checking if both root are None\n",
    "    if root1==None and root2==None:\n",
    "        return True\n",
    "    if root1 is not None and root2 is not None:\n",
    "        return ((root1.data==root2.data) and isIdentical(root1.left,root2.left) and isIdentical(root1.right,root2.right))\n",
    "    else:\n",
    "        return False"
   ]
  },
  {
   "cell_type": "code",
   "execution_count": 69,
   "metadata": {},
   "outputs": [],
   "source": [
    "#diameter of tree n**2 complexity\n",
    "def diameter(root):\n",
    "    if root == None:\n",
    "        return 0;\n",
    "    \n",
    "    lheight = height(tree.left);\n",
    "    rheight = height(tree.right);\n",
    "    \n",
    "    ldiameter = diameter(tree.left);\n",
    "    rdiameter = diameter(tree.right);\n",
    "    \n",
    "    #Return max of following three\n",
    "    # 1. Diameter of left subtree\n",
    "    # 2. Diameter of right subtree\n",
    "    # 3. Height of left subtree + height of right subtree + 1 */\n",
    "    return max(lheight + rheight + 1, max(ldiameter, rdiameter));\n",
    "\n",
    "\n",
    "\n",
    "\n",
    "#diameter of tree complexity (n)\n",
    "def height(root, ans): \n",
    "    if (root == None): \n",
    "        return 0\n",
    "    #height of left sub-tree\n",
    "    left_height = height(root.left, ans)  \n",
    "    #height of right sub-tree\n",
    "    right_height = height(root.right, ans)  \n",
    "    #changing value of ans\n",
    "    ans[0] = max(ans[0], 1 + left_height + \n",
    "                             right_height)  \n",
    "  \n",
    "    return 1 + max(left_height, \n",
    "                   right_height) \n",
    "  \n",
    "\n",
    "def diameter(root): \n",
    "    if (root == None):  \n",
    "        return 0\n",
    "    ans = [-999999999999] # This will store the final answer  \n",
    "    height_of_tree = height(root, ans)  \n",
    "    return ans[0] \n"
   ]
  },
  {
   "cell_type": "code",
   "execution_count": 70,
   "metadata": {},
   "outputs": [],
   "source": [
    "#Left view recursive\n",
    "\n",
    "def left_view_util(root,max_level,level):\n",
    "    if root is None:\n",
    "        return\n",
    "    if max_leve[0]<level:\n",
    "        print(root.data,end=' ')\n",
    "        max_level[0]=level\n",
    "    left_view_util(root.left,max_level,level+1)\n",
    "    left_view_util(root.right,max_level,level+1)\n",
    "\n",
    "def left_view(root):\n",
    "    max_level=[0]\n",
    "    left_view_util(root,max_level,1)"
   ]
  },
  {
   "cell_type": "code",
   "execution_count": null,
   "metadata": {},
   "outputs": [],
   "source": [
    "def "
   ]
  }
 ],
 "metadata": {
  "kernelspec": {
   "display_name": "Python 3",
   "language": "python",
   "name": "python3"
  },
  "language_info": {
   "codemirror_mode": {
    "name": "ipython",
    "version": 3
   },
   "file_extension": ".py",
   "mimetype": "text/x-python",
   "name": "python",
   "nbconvert_exporter": "python",
   "pygments_lexer": "ipython3",
   "version": "3.7.6"
  }
 },
 "nbformat": 4,
 "nbformat_minor": 4
}

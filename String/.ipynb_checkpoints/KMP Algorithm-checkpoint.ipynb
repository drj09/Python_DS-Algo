{
 "cells": [
  {
   "cell_type": "code",
   "execution_count": 108,
   "metadata": {},
   "outputs": [],
   "source": [
    "def kmp(txt,pat):\n",
    "    m=len(txt)\n",
    "    n=len(pat)\n",
    "    lps=[0]*n\n",
    "    computeLps(pat,lps,n)\n",
    "    i,j=0,0\n",
    "    while i<m:\n",
    "        if txt[i]==pat[j]:\n",
    "            i+=1\n",
    "            j+=1\n",
    "        if j==n:\n",
    "            j=lps[j-1]\n",
    "            print(\"Pattern found at\",i-j,\"location\")\n",
    "        elif i<m and pat[j]!=txt[i]:\n",
    "            if j!=0:\n",
    "                j=lps[j-1]\n",
    "            else:\n",
    "                i+=1"
   ]
  },
  {
   "cell_type": "code",
   "execution_count": 109,
   "metadata": {},
   "outputs": [],
   "source": [
    "def computeLps(pat,lps,n):\n",
    "    i=1\n",
    "    last=0\n",
    "    while i<n:\n",
    "        if pat[last]==pat[i]:\n",
    "            last+=1\n",
    "            lps[i]=last\n",
    "            i+=1\n",
    "        else:\n",
    "            if last!=0:\n",
    "                last=lps[last-1]\n",
    "            else:\n",
    "                lps[i]=0\n",
    "                i+=1"
   ]
  },
  {
   "cell_type": "code",
   "execution_count": 110,
   "metadata": {},
   "outputs": [
    {
     "name": "stdout",
     "output_type": "stream",
     "text": [
      "[0, 0]\n",
      "Pattern found at 3 location\n",
      "Pattern found at 5 location\n"
     ]
    }
   ],
   "source": [
    "kmp('AABABAA','AB')"
   ]
  },
  {
   "cell_type": "code",
   "execution_count": null,
   "metadata": {},
   "outputs": [],
   "source": []
  }
 ],
 "metadata": {
  "kernelspec": {
   "display_name": "Python 3",
   "language": "python",
   "name": "python3"
  },
  "language_info": {
   "codemirror_mode": {
    "name": "ipython",
    "version": 3
   },
   "file_extension": ".py",
   "mimetype": "text/x-python",
   "name": "python",
   "nbconvert_exporter": "python",
   "pygments_lexer": "ipython3",
   "version": "3.7.6"
  }
 },
 "nbformat": 4,
 "nbformat_minor": 4
}
